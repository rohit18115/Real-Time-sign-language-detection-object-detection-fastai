{
 "cells": [
  {
   "cell_type": "code",
   "execution_count": 1,
   "id": "367ce3eb",
   "metadata": {},
   "outputs": [],
   "source": [
    "import cv2 ##opencv\n",
    "import os\n",
    "import time #take a break between images\n",
    "import uuid #name our image files"
   ]
  },
  {
   "cell_type": "code",
   "execution_count": 2,
   "id": "7e7defc1",
   "metadata": {},
   "outputs": [],
   "source": [
    "IMAGES_PATH = 'fastai/workspace/images/collectedimages'"
   ]
  },
  {
   "cell_type": "code",
   "execution_count": 3,
   "id": "05d3f960",
   "metadata": {},
   "outputs": [
    {
     "name": "stdout",
     "output_type": "stream",
     "text": [
      "/media/rohit/NewVolume/codes/SA/fastai_course/Real-Time-sign-language-detection-object-detection-fastai\r\n"
     ]
    }
   ],
   "source": [
    "!pwd"
   ]
  },
  {
   "cell_type": "code",
   "execution_count": 4,
   "id": "881ce9ba",
   "metadata": {},
   "outputs": [],
   "source": [
    "labels = ['hello','thanks','yes','no','iloveyou']"
   ]
  },
  {
   "cell_type": "code",
   "execution_count": 5,
   "id": "1d79ac06",
   "metadata": {},
   "outputs": [],
   "source": [
    "## to check which webcam works\n",
    "# def testDevice(source):\n",
    "#    cap = cv2.VideoCapture(source) \n",
    "#    if cap is None or not cap.isOpened():\n",
    "#        print('Warning: unable to open video source: ', source)\n",
    "\n",
    "# testDevice(0) # no printout\n",
    "# testDevice(2) # prints message"
   ]
  },
  {
   "cell_type": "code",
   "execution_count": 6,
   "id": "0d0a231e",
   "metadata": {},
   "outputs": [
    {
     "name": "stdout",
     "output_type": "stream",
     "text": [
      "Collecting images for hello\n",
      "Collecting images for thanks\n",
      "Collecting images for yes\n",
      "Collecting images for no\n",
      "Collecting images for iloveyou\n"
     ]
    }
   ],
   "source": [
    "number_imgs = 30\n",
    "for label in labels:\n",
    "    !mkdir {'fastai/workspace/images/collectedimages/'+label}\n",
    "    cap = cv2.VideoCapture(2)\n",
    "    print('Collecting images for {}'.format(label))\n",
    "    time.sleep(10)\n",
    "    if cap.isOpened():\n",
    "        for imgnum in range(number_imgs):\n",
    "            ret, frame = cap.read()\n",
    "            imagename = os.path.join(IMAGES_PATH, label, label+'.'+'{}.jpg'.format(str(uuid.uuid1())))\n",
    "            cv2.imwrite(imagename, frame)\n",
    "            cv2.imshow('frame',frame)\n",
    "            time.sleep(1)\n",
    "\n",
    "            if cv2.waitKey(1) & 0xFF == ord('q'):\n",
    "                break\n",
    "        cap.release()"
   ]
  },
  {
   "cell_type": "code",
   "execution_count": null,
   "id": "b0627e73",
   "metadata": {},
   "outputs": [],
   "source": []
  }
 ],
 "metadata": {
  "kernelspec": {
   "display_name": "Python 3",
   "language": "python",
   "name": "python3"
  },
  "language_info": {
   "codemirror_mode": {
    "name": "ipython",
    "version": 3
   },
   "file_extension": ".py",
   "mimetype": "text/x-python",
   "name": "python",
   "nbconvert_exporter": "python",
   "pygments_lexer": "ipython3",
   "version": "3.6.13"
  }
 },
 "nbformat": 4,
 "nbformat_minor": 5
}
